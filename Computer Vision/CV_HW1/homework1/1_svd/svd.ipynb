{
 "cells": [
  {
   "cell_type": "markdown",
   "metadata": {},
   "source": [
    "## SVD Image Compression Demo"
   ]
  },
  {
   "cell_type": "markdown",
   "metadata": {},
   "source": [
    "### Step 1: Load and Display the Original Image"
   ]
  },
  {
   "cell_type": "code",
   "execution_count": null,
   "metadata": {},
   "outputs": [],
   "source": [
    "import numpy as np\n",
    "import matplotlib.pyplot as plt\n",
    "from imageio import imread, imwrite\n",
    "from ipywidgets import widgets, fixed\n",
    "from IPython.display import display\n",
    "from skimage.color import rgb2gray\n",
    "import os\n",
    "\n",
    "# Load grayscale Lena image from URL\n",
    "image = imread('stevejobs.jpeg')\n",
    "\n",
    "# Convert RGB image to grayscale if needed\n",
    "if image.ndim == 3:\n",
    "    image = rgb2gray(image)  # Returns float image in [0, 1]\n",
    "    image = (image * 255).astype(np.uint8)  # Convert to uint8 if needed\n",
    "\n",
    "# Show original image\n",
    "plt.figure(figsize=(5, 5))\n",
    "plt.imshow(image, cmap='gray')\n",
    "plt.title('Original Image')\n",
    "plt.axis('off')\n",
    "plt.show()"
   ]
  },
  {
   "cell_type": "markdown",
   "metadata": {},
   "source": [
    "### Step 2: Perform Singular Value Decomposition (SVD)"
   ]
  },
  {
   "cell_type": "code",
   "execution_count": null,
   "metadata": {},
   "outputs": [],
   "source": [
    "# Decompose the image matrix using SVD\n",
    "U, S, VT = np.linalg.svd(image, full_matrices=False)\n",
    "print(f\"U shape: {U.shape}, S shape: {S.shape}, VT shape: {VT.shape}\")\n",
    "\n",
    "# Plot singular values on a log scale\n",
    "plt.figure(figsize=(5, 5))\n",
    "plt.scatter(np.arange(len(S)), S, s=0.5)\n",
    "plt.yscale('log')\n",
    "plt.xlabel('Index')\n",
    "plt.ylabel('Singular Value (log scale)')\n",
    "plt.title('Singular Values of the Image')\n",
    "plt.grid(True)\n",
    "plt.show()"
   ]
  },
  {
   "cell_type": "markdown",
   "metadata": {},
   "source": [
    "### Step 3: Core Compression Utilities"
   ]
  },
  {
   "cell_type": "code",
   "execution_count": null,
   "metadata": {},
   "outputs": [],
   "source": [
    "def svd_compress(u, s, vt, k):\n",
    "    \"\"\"\n",
    "    Return the compressed image using top-k SVD components.\n",
    "    \"\"\"\n",
    "    u_k = u[:, :k]\n",
    "    s_k = s[:k]\n",
    "    vt_k = vt[:k, :]\n",
    "\n",
    "    # TODO: Replace the line below with the actual reconstruction\n",
    "    compressed = None\n",
    "\n",
    "    return compressed\n",
    "\n",
    "def compression_ratio(u, s, vt, k, original_shape):\n",
    "    \"\"\"\n",
    "    Compute the compression ratio for rank-k approximation.\n",
    "    \"\"\"\n",
    "    original_size = original_shape[0] * original_shape[1]\n",
    "    # TODO: Replace the line below\n",
    "    compressed_size = None\n",
    "    \n",
    "    ratio = original_size / compressed_size\n",
    "    return ratio"
   ]
  },
  {
   "cell_type": "markdown",
   "metadata": {},
   "source": [
    "### Step 4: Interactive Compression with Rank-k Approximation\n"
   ]
  },
  {
   "cell_type": "code",
   "execution_count": null,
   "metadata": {},
   "outputs": [],
   "source": [
    "# Create interactive slider to choose rank-k\n",
    "k_slider = widgets.IntSlider(min=1, max=min(image.shape), step=5, value=20, description='Rank k:')\n",
    "display(k_slider)\n",
    "\n",
    "# Define the approximation and visualization function\n",
    "def approximate(k, u, s, vt, image):\n",
    "    compressed = svd_compress(u, s, vt, k)\n",
    "    if compressed is None:\n",
    "        print(\"Please implement svd_compress().\")\n",
    "        return\n",
    "\n",
    "    compressed = np.clip(compressed, 0, 255)\n",
    "    diff = image - compressed\n",
    "    error = np.linalg.norm(diff)\n",
    "    ratio = compression_ratio(u, s, vt, k, image.shape)\n",
    "\n",
    "    fig, (ax1, ax2) = plt.subplots(1, 2, figsize=(8, 4))\n",
    "    ax1.imshow(compressed, cmap='gray')\n",
    "    ax1.set_title(f'Compressed Image (k={k})')\n",
    "    ax1.axis('off')\n",
    "\n",
    "    ax2.imshow(image, cmap='gray')\n",
    "    ax2.set_title('Original Image')\n",
    "    ax2.axis('off')\n",
    "\n",
    "    plt.suptitle(f'Compression Ratio = {ratio:.2f}, Reconstruction Error = {error:.2f}', fontsize=10)\n",
    "    plt.tight_layout()\n",
    "    plt.show()\n",
    "\n",
    "# Create the interactive widget\n",
    "widgets.interact(approximate, k=k_slider, u=fixed(U), s=fixed(S), vt=fixed(VT), image=fixed(image))"
   ]
  },
  {
   "cell_type": "markdown",
   "metadata": {},
   "source": [
    "### Step 5: Save the Compressed Images with Different k"
   ]
  },
  {
   "cell_type": "code",
   "execution_count": null,
   "metadata": {},
   "outputs": [],
   "source": [
    "def save_compressed_image(k, u, s, vt, filename):\n",
    "    compressed = svd_compress(u, s, vt, k)\n",
    "    if compressed is None:\n",
    "        print(f\"Cannot save image for k={k}. svd_compress() not implemented.\")\n",
    "        return\n",
    "    compressed = np.clip(compressed, 0, 255).astype(np.uint8)\n",
    "    imwrite(filename, compressed)\n",
    "\n",
    "H, W = image.shape\n",
    "k_star = None  # TODO: Replace this with the value you computed in (b).\n",
    "k_values = [5, 20, 50, 100, k_star]\n",
    "\n",
    "os.makedirs(\"compressed\", exist_ok=True)\n",
    "imwrite(\"compressed/original.jpg\", image)\n",
    "\n",
    "for k in k_values:\n",
    "    filename = f\"compressed/compressed_k{k:03d}.jpg\"\n",
    "    save_compressed_image(k, U, S, VT, filename)\n",
    "    print(f\"Saved compressed image for k={k} to {filename}\")"
   ]
  }
 ],
 "metadata": {
  "kernelspec": {
   "display_name": "Python 3",
   "language": "python",
   "name": "python3"
  },
  "language_info": {
   "codemirror_mode": {
    "name": "ipython",
    "version": 3
   },
   "file_extension": ".py",
   "mimetype": "text/x-python",
   "name": "python",
   "nbconvert_exporter": "python",
   "pygments_lexer": "ipython3",
   "version": "3.8.17"
  }
 },
 "nbformat": 4,
 "nbformat_minor": 2
}
