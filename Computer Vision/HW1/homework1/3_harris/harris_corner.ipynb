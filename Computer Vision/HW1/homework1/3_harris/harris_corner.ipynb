{
  "cells": [
    {
      "cell_type": "markdown",
      "metadata": {
        "id": "2AzhgRqznfQP"
      },
      "source": [
        "## Harris Corner Detection"
      ]
    },
    {
      "cell_type": "markdown",
      "metadata": {
        "id": "zAN4w_WEnfQR"
      },
      "source": [
        "### Step 0: Load Image"
      ]
    },
    {
      "cell_type": "code",
      "execution_count": null,
      "metadata": {
        "colab": {
          "base_uri": "https://localhost:8080/",
          "height": 480
        },
        "id": "m9JwbcgBnfQR",
        "outputId": "2911ce42-7cb9-4fd5-8fb5-0cae1cc536b8"
      },
      "outputs": [],
      "source": [
        "import numpy as np\n",
        "import matplotlib.pyplot as plt\n",
        "import cv2\n",
        "from imageio import imread\n",
        "from scipy import ndimage\n",
        "\n",
        "image = imread(\"https://upload.wikimedia.org/wikipedia/commons/thumb/4/4b/Chessboard_calibration_setup.png/576px-Chessboard_calibration_setup.png\")[..., 0:1]\n",
        "image = image.astype(np.float32)\n",
        "\n",
        "plt.figure(figsize=(5, 5))\n",
        "if image.shape[-1] == 1:\n",
        "    plt.imshow(image.astype(np.uint8), cmap='gray')\n",
        "else:\n",
        "    plt.imshow(image.astype(np.uint8))\n",
        "plt.title('Input Image')\n",
        "plt.axis('off')\n",
        "plt.show()"
      ]
    },
    {
      "cell_type": "markdown",
      "metadata": {
        "id": "uC7UGw4enfQS"
      },
      "source": [
        "### Step 1: Compute Image Gradients"
      ]
    },
    {
      "cell_type": "code",
      "execution_count": null,
      "metadata": {
        "colab": {
          "base_uri": "https://localhost:8080/",
          "height": 369
        },
        "id": "EWVVfXK-nfQS",
        "outputId": "a1b27384-0e20-4837-a5aa-1bd6dbf52a54"
      },
      "outputs": [],
      "source": [
        "def compute_gradients(image):\n",
        "    # Compute gradients using Sobel filters\n",
        "    Ix = ndimage.sobel(image, axis=1)\n",
        "    Iy = ndimage.sobel(image, axis=0)\n",
        "    return Ix, Iy\n",
        "\n",
        "def normalize(img):\n",
        "    return (img - np.min(img)) / (np.max(img) - np.min(img) + 1e-8)\n",
        "\n",
        "Ix, Iy = compute_gradients(image / 255)\n",
        "\n",
        "plt.figure(figsize=(15, 4))\n",
        "plt.subplot(1, 3, 1)\n",
        "plt.imshow(normalize(np.abs(Ix)), cmap='gray')\n",
        "plt.title('$|I_x|$')\n",
        "plt.axis('off')\n",
        "\n",
        "plt.subplot(1, 3, 2)\n",
        "plt.imshow(normalize(np.abs(Iy)), cmap='gray')\n",
        "plt.title('$|I_y|$')\n",
        "plt.axis('off')\n",
        "\n",
        "plt.subplot(1, 3, 3)\n",
        "plt.imshow(normalize(np.hypot(Ix, Iy)), cmap='gray')\n",
        "plt.title('Gradient Magnitude')\n",
        "plt.axis('off')\n",
        "plt.show()\n"
      ]
    },
    {
      "cell_type": "markdown",
      "metadata": {
        "id": "3iOpRjBZnfQS"
      },
      "source": [
        "### Step 2: Eigenvalue Intuition"
      ]
    },
    {
      "cell_type": "code",
      "execution_count": 3,
      "metadata": {
        "id": "tqo2voD3nfQS"
      },
      "outputs": [],
      "source": [
        "def local_harris_matrix(Ix, Iy, x, y, window_size=5):\n",
        "    w = window_size // 2\n",
        "    Ix_window = Ix[y-w:y+w+1, x-w:x+w+1]\n",
        "    Iy_window = Iy[y-w:y+w+1, x-w:x+w+1]\n",
        "\n",
        "    Ixx = np.sum(Ix_window**2)\n",
        "    Iyy = np.sum(Iy_window**2)\n",
        "    Ixy = np.sum(Ix_window * Iy_window)\n",
        "    M = np.array([[Ixx, Ixy], [Ixy, Iyy]])\n",
        "    return M\n",
        "\n",
        "def plot_harris_eigenvalues(Ix, Iy, x, y, window_size=5):\n",
        "    M = local_harris_matrix(Ix, Iy, x, y, window_size)\n",
        "    eigvals, eigvecs = np.linalg.eig(M)\n",
        "\n",
        "    print(f\"Location: (x={x}, y={y})\")\n",
        "    print(\"Harris matrix:\")\n",
        "    print(M)\n",
        "    print(\"Eigenvalues:\", eigvals)\n",
        "\n",
        "    fig, ax = plt.subplots()\n",
        "    ax.set_title(\"Eigenvalue Ellipse Visualization\")\n",
        "    ax.set_aspect('equal')\n",
        "    ax.grid(True)\n",
        "\n",
        "    ellipse = plt.Circle((0, 0), 1, color='lightgray', fill=False)\n",
        "    ax.add_patch(ellipse)\n",
        "\n",
        "    for i in range(2):\n",
        "        vec = eigvecs[:, i]\n",
        "        length = np.sqrt(eigvals[i])\n",
        "        ax.arrow(0, 0, vec[0]*length, vec[1]*length, head_width=1, color='r')\n",
        "\n",
        "    ax.set_xlim(-50, 50)\n",
        "    ax.set_ylim(-50, 50)\n",
        "    plt.xlabel('dx')\n",
        "    plt.ylabel('dy')\n",
        "    plt.show()\n",
        "\n",
        "def interpret_eigenvalues(e1, e2, threshold=200):\n",
        "    if e1 < threshold and e2 < threshold:\n",
        "        return \"Flat region\"\n",
        "    elif min(e1, e2) < threshold:\n",
        "        return \"Edge-like region\"\n",
        "    else:\n",
        "        return \"Corner region\"\n"
      ]
    },
    {
      "cell_type": "markdown",
      "metadata": {
        "id": "Ydxw_ipSRX0c"
      },
      "source": [
        "#### Interactive Visualization"
      ]
    },
    {
      "cell_type": "code",
      "execution_count": null,
      "metadata": {
        "colab": {
          "base_uri": "https://localhost:8080/",
          "height": 662,
          "referenced_widgets": [
            "b7ceccbdcf704bca9ea184c89b45c2af",
            "a83003370b6d48f191d6b6329c7dde3c",
            "b0632066f2be44b5a9b1a7a582dfd3fb",
            "142abf15890b4c269482df210c087fa4",
            "4fd9ba9378bd4880b2f6a90d6aeb1575",
            "740120a637e24efc8fcb5edc88a43edd",
            "b5f2658638484c3487535d0bcc0f1ec0",
            "e4aaadfd582b446b9c57c4ab5afeb567",
            "1ed2628355394067bd756fcffa9ec2ed",
            "2eed907667dd4278bf536bc073156797",
            "0743347b4de04644899fefd5a212707b",
            "cf9ee219a0be42309debd481dd70dcf4",
            "822fc0a611f84bccb2c8bb34d8e3b796",
            "31057f2ca64045769444b7cdb18ee047",
            "8c49adf201684f6a9a3e3bee1a40f0cc",
            "3ebe5c8c6c8c42f09af8bf5af7d5ac0f"
          ]
        },
        "id": "j16-O_p16WZ6",
        "outputId": "3c43c9bc-d10a-4ca7-fbae-858299ac28ef"
      },
      "outputs": [],
      "source": [
        "import ipywidgets as widgets\n",
        "from IPython.display import display, clear_output\n",
        "from matplotlib.patches import Ellipse\n",
        "\n",
        "def interactive_harris_click(image, Ix, Iy):\n",
        "    h, w = image.shape[:2]\n",
        "\n",
        "    x_slider = widgets.IntSlider(min=0, max=w-1, value=w//2, description='x')\n",
        "    y_slider = widgets.IntSlider(min=0, max=h-1, value=h//2, description='y')\n",
        "\n",
        "    img_box = widgets.Output()\n",
        "    eig_box = widgets.Output()\n",
        "    log_box = widgets.Output()\n",
        "\n",
        "    def update(x, y):\n",
        "        M = local_harris_matrix(Ix, Iy, x, y)\n",
        "        eigvals, eigvecs = np.linalg.eig(M)\n",
        "        interpretation = interpret_eigenvalues(*eigvals)\n",
        "\n",
        "        # --- Plot: Image view ---\n",
        "        fig1, ax1 = plt.subplots(figsize=(5, 5))\n",
        "        ax1.imshow(image.astype(np.uint8), cmap='gray')\n",
        "        ax1.plot(x, y, 'ro', markersize=8)\n",
        "        ax1.set_title(f\"Image (x={x}, y={y})\")\n",
        "        ax1.axis('off')\n",
        "\n",
        "        # --- Plot: True Ellipse view ---\n",
        "        fig2, ax2 = plt.subplots(figsize=(5, 5))\n",
        "        ax2.set_title(f\"Eigenvalue Ellipse\\n{interpretation}\")\n",
        "        ax2.set_aspect('equal')\n",
        "        ax2.grid(True)\n",
        "\n",
        "        # Calculate ellipse parameters\n",
        "        angle = np.degrees(np.arctan2(eigvecs[1, 0], eigvecs[0, 0]))\n",
        "        width = 2 * np.sqrt(eigvals[0])\n",
        "        height = 2 * np.sqrt(eigvals[1])\n",
        "\n",
        "        ellipse = Ellipse((0, 0), width=width, height=height, angle=angle,\n",
        "                          edgecolor='red', facecolor='none', lw=2)\n",
        "        ax2.add_patch(ellipse)\n",
        "\n",
        "        # Optional: draw eigenvectors as arrows\n",
        "        for i in range(2):\n",
        "            vec = eigvecs[:, i]\n",
        "            length = np.sqrt(eigvals[i])\n",
        "            ax2.arrow(0, 0, vec[0]*length, vec[1]*length, head_width=0.5, color='blue')\n",
        "\n",
        "        ax2.set_xlim(-50, 50)\n",
        "        ax2.set_ylim(-50, 50)\n",
        "        ax2.set_xlabel(\"dx\")\n",
        "        ax2.set_ylabel(\"dy\")\n",
        "\n",
        "        # --- Display ---\n",
        "        with img_box:\n",
        "            clear_output(wait=True)\n",
        "            display(fig1)\n",
        "            plt.close(fig1)\n",
        "\n",
        "        with eig_box:\n",
        "            clear_output(wait=True)\n",
        "            display(fig2)\n",
        "            plt.close(fig2)\n",
        "\n",
        "        with log_box:\n",
        "            clear_output(wait=True)\n",
        "            print(\"Harris matrix:\\n\", M)\n",
        "            print(\"Eigenvalues:\", eigvals)\n",
        "            print(\"Interpretation:\", interpretation)\n",
        "\n",
        "    ui = widgets.VBox([x_slider, y_slider])\n",
        "    out = widgets.interactive_output(update, {'x': x_slider, 'y': y_slider})\n",
        "\n",
        "    display(ui)\n",
        "    display(widgets.HBox([img_box, eig_box]))\n",
        "    display(log_box)\n",
        "\n",
        "\n",
        "\n",
        "interactive_harris_click(image, Ix, Iy)"
      ]
    },
    {
      "cell_type": "markdown",
      "metadata": {
        "id": "LtYiMMUlnfQS"
      },
      "source": [
        "### Step 3: Implement Harris Detector"
      ]
    },
    {
      "cell_type": "code",
      "execution_count": 4,
      "metadata": {
        "id": "b6jhpVqXnfQT"
      },
      "outputs": [],
      "source": [
        "def compute_harris_response(Ix, Iy, sigma=1, k=0.05):\n",
        "    Ixx = ndimage.gaussian_filter(Ix**2, sigma)\n",
        "    Iyy = ndimage.gaussian_filter(Iy**2, sigma)\n",
        "    Ixy = ndimage.gaussian_filter(Ix*Iy, sigma)\n",
        "\n",
        "    detM = Ixx * Iyy - Ixy**2\n",
        "    traceM = Ixx + Iyy\n",
        "    R = detM - k * traceM**2\n",
        "    return R"
      ]
    },
    {
      "cell_type": "markdown",
      "metadata": {
        "id": "k7iozUranfQT"
      },
      "source": [
        "### Step 4: Thresholding and NMS"
      ]
    },
    {
      "cell_type": "code",
      "execution_count": 11,
      "metadata": {
        "id": "HOJ5u-pOnfQT"
      },
      "outputs": [],
      "source": [
        "def detect_corners(R, threshold_ratio=0.01, window_size=3):\n",
        "    # If RGB response, average across channels\n",
        "    if R.ndim == 3:\n",
        "        R = np.mean(R, axis=2)\n",
        "\n",
        "    threshold = threshold_ratio * R.max()\n",
        "    corners = (R > threshold)\n",
        "    size = window_size // 2\n",
        "    coordinates = []\n",
        "    for y in range(size, R.shape[0] - size):\n",
        "        for x in range(size, R.shape[1] - size):\n",
        "            window = R[y-size:y+size+1, x-size:x+size+1]\n",
        "            if R[y, x] == np.max(window) and corners[y, x]:\n",
        "                coordinates.append((y, x))\n",
        "    return coordinates\n"
      ]
    },
    {
      "cell_type": "markdown",
      "metadata": {
        "id": "WQ02Y9QXnfQT"
      },
      "source": [
        "### Step 5: Run Pipeline and Visualize"
      ]
    },
    {
      "cell_type": "code",
      "execution_count": 12,
      "metadata": {
        "id": "ocrzL9OCnfQT"
      },
      "outputs": [],
      "source": [
        "def plot_corners(image, corners):\n",
        "    plt.figure(figsize=(6, 6))\n",
        "    if image.shape[-1] == 1:\n",
        "        plt.imshow(image.astype(np.uint8), cmap='gray')\n",
        "    else:\n",
        "        plt.imshow(image.astype(np.uint8))\n",
        "    for y, x in corners:\n",
        "        plt.plot(x, y, 'ro', markersize=1)\n",
        "    plt.title('Detected Corners')\n",
        "    plt.axis('off')\n",
        "    plt.show()\n",
        "\n",
        "def harris_pipeline(image):\n",
        "    Ix, Iy = compute_gradients(image)\n",
        "    R = compute_harris_response(Ix, Iy, k=0.05)\n",
        "    corners = detect_corners(R)\n",
        "\n",
        "    return corners\n",
        "\n",
        "# Run the pipeline\n",
        "image = imread(\"https://upload.wikimedia.org/wikipedia/commons/thumb/9/93/Sagrada_familia_construction_differences.jpg/500px-Sagrada_familia_construction_differences.jpg\")\n",
        "image = image.astype(np.float32)\n",
        "corners = harris_pipeline(image)\n",
        "plot_corners(image, corners)"
      ]
    },
    {
      "cell_type": "markdown",
      "metadata": {},
      "source": [
        "### Feel free to add cells to visualize the results for solving the problem."
      ]
    }
  ],
  "metadata": {
    "colab": {
      "provenance": []
    },
    "kernelspec": {
      "display_name": "Python 3",
      "name": "python3"
    },
    "language_info": {
      "name": "python"
    },
    "widgets": {
      "application/vnd.jupyter.widget-state+json": {
        "0743347b4de04644899fefd5a212707b": {
          "model_module": "@jupyter-widgets/output",
          "model_module_version": "1.0.0",
          "model_name": "OutputModel",
          "state": {
            "_dom_classes": [],
            "_model_module": "@jupyter-widgets/output",
            "_model_module_version": "1.0.0",
            "_model_name": "OutputModel",
            "_view_count": null,
            "_view_module": "@jupyter-widgets/output",
            "_view_module_version": "1.0.0",
            "_view_name": "OutputView",
            "layout": "IPY_MODEL_31057f2ca64045769444b7cdb18ee047",
            "msg_id": "",
            "outputs": [
              {
                "data": {
                  "image/png": "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\n",
                  "text/plain": "<Figure size 500x500 with 1 Axes>"
                },
                "metadata": {},
                "output_type": "display_data"
              }
            ]
          }
        },
        "142abf15890b4c269482df210c087fa4": {
          "model_module": "@jupyter-widgets/base",
          "model_module_version": "1.2.0",
          "model_name": "LayoutModel",
          "state": {
            "_model_module": "@jupyter-widgets/base",
            "_model_module_version": "1.2.0",
            "_model_name": "LayoutModel",
            "_view_count": null,
            "_view_module": "@jupyter-widgets/base",
            "_view_module_version": "1.2.0",
            "_view_name": "LayoutView",
            "align_content": null,
            "align_items": null,
            "align_self": null,
            "border": null,
            "bottom": null,
            "display": null,
            "flex": null,
            "flex_flow": null,
            "grid_area": null,
            "grid_auto_columns": null,
            "grid_auto_flow": null,
            "grid_auto_rows": null,
            "grid_column": null,
            "grid_gap": null,
            "grid_row": null,
            "grid_template_areas": null,
            "grid_template_columns": null,
            "grid_template_rows": null,
            "height": null,
            "justify_content": null,
            "justify_items": null,
            "left": null,
            "margin": null,
            "max_height": null,
            "max_width": null,
            "min_height": null,
            "min_width": null,
            "object_fit": null,
            "object_position": null,
            "order": null,
            "overflow": null,
            "overflow_x": null,
            "overflow_y": null,
            "padding": null,
            "right": null,
            "top": null,
            "visibility": null,
            "width": null
          }
        },
        "1ed2628355394067bd756fcffa9ec2ed": {
          "model_module": "@jupyter-widgets/controls",
          "model_module_version": "1.5.0",
          "model_name": "HBoxModel",
          "state": {
            "_dom_classes": [],
            "_model_module": "@jupyter-widgets/controls",
            "_model_module_version": "1.5.0",
            "_model_name": "HBoxModel",
            "_view_count": null,
            "_view_module": "@jupyter-widgets/controls",
            "_view_module_version": "1.5.0",
            "_view_name": "HBoxView",
            "box_style": "",
            "children": [
              "IPY_MODEL_2eed907667dd4278bf536bc073156797",
              "IPY_MODEL_0743347b4de04644899fefd5a212707b"
            ],
            "layout": "IPY_MODEL_cf9ee219a0be42309debd481dd70dcf4"
          }
        },
        "2eed907667dd4278bf536bc073156797": {
          "model_module": "@jupyter-widgets/output",
          "model_module_version": "1.0.0",
          "model_name": "OutputModel",
          "state": {
            "_dom_classes": [],
            "_model_module": "@jupyter-widgets/output",
            "_model_module_version": "1.0.0",
            "_model_name": "OutputModel",
            "_view_count": null,
            "_view_module": "@jupyter-widgets/output",
            "_view_module_version": "1.0.0",
            "_view_name": "OutputView",
            "layout": "IPY_MODEL_822fc0a611f84bccb2c8bb34d8e3b796",
            "msg_id": "",
            "outputs": [
              {
                "data": {
                  "image/png": "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\n",
                  "text/plain": "<Figure size 500x500 with 1 Axes>"
                },
                "metadata": {},
                "output_type": "display_data"
              }
            ]
          }
        },
        "31057f2ca64045769444b7cdb18ee047": {
          "model_module": "@jupyter-widgets/base",
          "model_module_version": "1.2.0",
          "model_name": "LayoutModel",
          "state": {
            "_model_module": "@jupyter-widgets/base",
            "_model_module_version": "1.2.0",
            "_model_name": "LayoutModel",
            "_view_count": null,
            "_view_module": "@jupyter-widgets/base",
            "_view_module_version": "1.2.0",
            "_view_name": "LayoutView",
            "align_content": null,
            "align_items": null,
            "align_self": null,
            "border": null,
            "bottom": null,
            "display": null,
            "flex": null,
            "flex_flow": null,
            "grid_area": null,
            "grid_auto_columns": null,
            "grid_auto_flow": null,
            "grid_auto_rows": null,
            "grid_column": null,
            "grid_gap": null,
            "grid_row": null,
            "grid_template_areas": null,
            "grid_template_columns": null,
            "grid_template_rows": null,
            "height": null,
            "justify_content": null,
            "justify_items": null,
            "left": null,
            "margin": null,
            "max_height": null,
            "max_width": null,
            "min_height": null,
            "min_width": null,
            "object_fit": null,
            "object_position": null,
            "order": null,
            "overflow": null,
            "overflow_x": null,
            "overflow_y": null,
            "padding": null,
            "right": null,
            "top": null,
            "visibility": null,
            "width": null
          }
        },
        "3ebe5c8c6c8c42f09af8bf5af7d5ac0f": {
          "model_module": "@jupyter-widgets/base",
          "model_module_version": "1.2.0",
          "model_name": "LayoutModel",
          "state": {
            "_model_module": "@jupyter-widgets/base",
            "_model_module_version": "1.2.0",
            "_model_name": "LayoutModel",
            "_view_count": null,
            "_view_module": "@jupyter-widgets/base",
            "_view_module_version": "1.2.0",
            "_view_name": "LayoutView",
            "align_content": null,
            "align_items": null,
            "align_self": null,
            "border": null,
            "bottom": null,
            "display": null,
            "flex": null,
            "flex_flow": null,
            "grid_area": null,
            "grid_auto_columns": null,
            "grid_auto_flow": null,
            "grid_auto_rows": null,
            "grid_column": null,
            "grid_gap": null,
            "grid_row": null,
            "grid_template_areas": null,
            "grid_template_columns": null,
            "grid_template_rows": null,
            "height": null,
            "justify_content": null,
            "justify_items": null,
            "left": null,
            "margin": null,
            "max_height": null,
            "max_width": null,
            "min_height": null,
            "min_width": null,
            "object_fit": null,
            "object_position": null,
            "order": null,
            "overflow": null,
            "overflow_x": null,
            "overflow_y": null,
            "padding": null,
            "right": null,
            "top": null,
            "visibility": null,
            "width": null
          }
        },
        "4fd9ba9378bd4880b2f6a90d6aeb1575": {
          "model_module": "@jupyter-widgets/base",
          "model_module_version": "1.2.0",
          "model_name": "LayoutModel",
          "state": {
            "_model_module": "@jupyter-widgets/base",
            "_model_module_version": "1.2.0",
            "_model_name": "LayoutModel",
            "_view_count": null,
            "_view_module": "@jupyter-widgets/base",
            "_view_module_version": "1.2.0",
            "_view_name": "LayoutView",
            "align_content": null,
            "align_items": null,
            "align_self": null,
            "border": null,
            "bottom": null,
            "display": null,
            "flex": null,
            "flex_flow": null,
            "grid_area": null,
            "grid_auto_columns": null,
            "grid_auto_flow": null,
            "grid_auto_rows": null,
            "grid_column": null,
            "grid_gap": null,
            "grid_row": null,
            "grid_template_areas": null,
            "grid_template_columns": null,
            "grid_template_rows": null,
            "height": null,
            "justify_content": null,
            "justify_items": null,
            "left": null,
            "margin": null,
            "max_height": null,
            "max_width": null,
            "min_height": null,
            "min_width": null,
            "object_fit": null,
            "object_position": null,
            "order": null,
            "overflow": null,
            "overflow_x": null,
            "overflow_y": null,
            "padding": null,
            "right": null,
            "top": null,
            "visibility": null,
            "width": null
          }
        },
        "740120a637e24efc8fcb5edc88a43edd": {
          "model_module": "@jupyter-widgets/controls",
          "model_module_version": "1.5.0",
          "model_name": "SliderStyleModel",
          "state": {
            "_model_module": "@jupyter-widgets/controls",
            "_model_module_version": "1.5.0",
            "_model_name": "SliderStyleModel",
            "_view_count": null,
            "_view_module": "@jupyter-widgets/base",
            "_view_module_version": "1.2.0",
            "_view_name": "StyleView",
            "description_width": "",
            "handle_color": null
          }
        },
        "822fc0a611f84bccb2c8bb34d8e3b796": {
          "model_module": "@jupyter-widgets/base",
          "model_module_version": "1.2.0",
          "model_name": "LayoutModel",
          "state": {
            "_model_module": "@jupyter-widgets/base",
            "_model_module_version": "1.2.0",
            "_model_name": "LayoutModel",
            "_view_count": null,
            "_view_module": "@jupyter-widgets/base",
            "_view_module_version": "1.2.0",
            "_view_name": "LayoutView",
            "align_content": null,
            "align_items": null,
            "align_self": null,
            "border": null,
            "bottom": null,
            "display": null,
            "flex": null,
            "flex_flow": null,
            "grid_area": null,
            "grid_auto_columns": null,
            "grid_auto_flow": null,
            "grid_auto_rows": null,
            "grid_column": null,
            "grid_gap": null,
            "grid_row": null,
            "grid_template_areas": null,
            "grid_template_columns": null,
            "grid_template_rows": null,
            "height": null,
            "justify_content": null,
            "justify_items": null,
            "left": null,
            "margin": null,
            "max_height": null,
            "max_width": null,
            "min_height": null,
            "min_width": null,
            "object_fit": null,
            "object_position": null,
            "order": null,
            "overflow": null,
            "overflow_x": null,
            "overflow_y": null,
            "padding": null,
            "right": null,
            "top": null,
            "visibility": null,
            "width": null
          }
        },
        "8c49adf201684f6a9a3e3bee1a40f0cc": {
          "model_module": "@jupyter-widgets/output",
          "model_module_version": "1.0.0",
          "model_name": "OutputModel",
          "state": {
            "_dom_classes": [],
            "_model_module": "@jupyter-widgets/output",
            "_model_module_version": "1.0.0",
            "_model_name": "OutputModel",
            "_view_count": null,
            "_view_module": "@jupyter-widgets/output",
            "_view_module_version": "1.0.0",
            "_view_name": "OutputView",
            "layout": "IPY_MODEL_3ebe5c8c6c8c42f09af8bf5af7d5ac0f",
            "msg_id": "",
            "outputs": [
              {
                "name": "stdout",
                "output_type": "stream",
                "text": [
                  "Harris matrix:\n",
                  " [[ 967.588    -91.56504]\n",
                  " [ -91.56504 1304.4479 ]]\n",
                  "Eigenvalues: [ 944.30774 1327.7281 ]\n",
                  "Interpretation: Corner region\n"
                ]
              }
            ]
          }
        },
        "a83003370b6d48f191d6b6329c7dde3c": {
          "model_module": "@jupyter-widgets/controls",
          "model_module_version": "1.5.0",
          "model_name": "IntSliderModel",
          "state": {
            "_dom_classes": [],
            "_model_module": "@jupyter-widgets/controls",
            "_model_module_version": "1.5.0",
            "_model_name": "IntSliderModel",
            "_view_count": null,
            "_view_module": "@jupyter-widgets/controls",
            "_view_module_version": "1.5.0",
            "_view_name": "IntSliderView",
            "continuous_update": true,
            "description": "x",
            "description_tooltip": null,
            "disabled": false,
            "layout": "IPY_MODEL_4fd9ba9378bd4880b2f6a90d6aeb1575",
            "max": 575,
            "min": 0,
            "orientation": "horizontal",
            "readout": true,
            "readout_format": "d",
            "step": 1,
            "style": "IPY_MODEL_740120a637e24efc8fcb5edc88a43edd",
            "value": 218
          }
        },
        "b0632066f2be44b5a9b1a7a582dfd3fb": {
          "model_module": "@jupyter-widgets/controls",
          "model_module_version": "1.5.0",
          "model_name": "IntSliderModel",
          "state": {
            "_dom_classes": [],
            "_model_module": "@jupyter-widgets/controls",
            "_model_module_version": "1.5.0",
            "_model_name": "IntSliderModel",
            "_view_count": null,
            "_view_module": "@jupyter-widgets/controls",
            "_view_module_version": "1.5.0",
            "_view_name": "IntSliderView",
            "continuous_update": true,
            "description": "y",
            "description_tooltip": null,
            "disabled": false,
            "layout": "IPY_MODEL_b5f2658638484c3487535d0bcc0f1ec0",
            "max": 615,
            "min": 0,
            "orientation": "horizontal",
            "readout": true,
            "readout_format": "d",
            "step": 1,
            "style": "IPY_MODEL_e4aaadfd582b446b9c57c4ab5afeb567",
            "value": 288
          }
        },
        "b5f2658638484c3487535d0bcc0f1ec0": {
          "model_module": "@jupyter-widgets/base",
          "model_module_version": "1.2.0",
          "model_name": "LayoutModel",
          "state": {
            "_model_module": "@jupyter-widgets/base",
            "_model_module_version": "1.2.0",
            "_model_name": "LayoutModel",
            "_view_count": null,
            "_view_module": "@jupyter-widgets/base",
            "_view_module_version": "1.2.0",
            "_view_name": "LayoutView",
            "align_content": null,
            "align_items": null,
            "align_self": null,
            "border": null,
            "bottom": null,
            "display": null,
            "flex": null,
            "flex_flow": null,
            "grid_area": null,
            "grid_auto_columns": null,
            "grid_auto_flow": null,
            "grid_auto_rows": null,
            "grid_column": null,
            "grid_gap": null,
            "grid_row": null,
            "grid_template_areas": null,
            "grid_template_columns": null,
            "grid_template_rows": null,
            "height": null,
            "justify_content": null,
            "justify_items": null,
            "left": null,
            "margin": null,
            "max_height": null,
            "max_width": null,
            "min_height": null,
            "min_width": null,
            "object_fit": null,
            "object_position": null,
            "order": null,
            "overflow": null,
            "overflow_x": null,
            "overflow_y": null,
            "padding": null,
            "right": null,
            "top": null,
            "visibility": null,
            "width": null
          }
        },
        "b7ceccbdcf704bca9ea184c89b45c2af": {
          "model_module": "@jupyter-widgets/controls",
          "model_module_version": "1.5.0",
          "model_name": "VBoxModel",
          "state": {
            "_dom_classes": [],
            "_model_module": "@jupyter-widgets/controls",
            "_model_module_version": "1.5.0",
            "_model_name": "VBoxModel",
            "_view_count": null,
            "_view_module": "@jupyter-widgets/controls",
            "_view_module_version": "1.5.0",
            "_view_name": "VBoxView",
            "box_style": "",
            "children": [
              "IPY_MODEL_a83003370b6d48f191d6b6329c7dde3c",
              "IPY_MODEL_b0632066f2be44b5a9b1a7a582dfd3fb"
            ],
            "layout": "IPY_MODEL_142abf15890b4c269482df210c087fa4"
          }
        },
        "cf9ee219a0be42309debd481dd70dcf4": {
          "model_module": "@jupyter-widgets/base",
          "model_module_version": "1.2.0",
          "model_name": "LayoutModel",
          "state": {
            "_model_module": "@jupyter-widgets/base",
            "_model_module_version": "1.2.0",
            "_model_name": "LayoutModel",
            "_view_count": null,
            "_view_module": "@jupyter-widgets/base",
            "_view_module_version": "1.2.0",
            "_view_name": "LayoutView",
            "align_content": null,
            "align_items": null,
            "align_self": null,
            "border": null,
            "bottom": null,
            "display": null,
            "flex": null,
            "flex_flow": null,
            "grid_area": null,
            "grid_auto_columns": null,
            "grid_auto_flow": null,
            "grid_auto_rows": null,
            "grid_column": null,
            "grid_gap": null,
            "grid_row": null,
            "grid_template_areas": null,
            "grid_template_columns": null,
            "grid_template_rows": null,
            "height": null,
            "justify_content": null,
            "justify_items": null,
            "left": null,
            "margin": null,
            "max_height": null,
            "max_width": null,
            "min_height": null,
            "min_width": null,
            "object_fit": null,
            "object_position": null,
            "order": null,
            "overflow": null,
            "overflow_x": null,
            "overflow_y": null,
            "padding": null,
            "right": null,
            "top": null,
            "visibility": null,
            "width": null
          }
        },
        "e4aaadfd582b446b9c57c4ab5afeb567": {
          "model_module": "@jupyter-widgets/controls",
          "model_module_version": "1.5.0",
          "model_name": "SliderStyleModel",
          "state": {
            "_model_module": "@jupyter-widgets/controls",
            "_model_module_version": "1.5.0",
            "_model_name": "SliderStyleModel",
            "_view_count": null,
            "_view_module": "@jupyter-widgets/base",
            "_view_module_version": "1.2.0",
            "_view_name": "StyleView",
            "description_width": "",
            "handle_color": null
          }
        }
      }
    }
  },
  "nbformat": 4,
  "nbformat_minor": 0
}
