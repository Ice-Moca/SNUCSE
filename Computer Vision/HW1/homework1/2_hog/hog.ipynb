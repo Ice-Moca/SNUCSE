{
  "cells": [
    {
      "cell_type": "markdown",
      "metadata": {
        "id": "X2owyhous_UA"
      },
      "source": [
        "# HOG-Based Face Detection Functions Documentation"
      ]
    },
    {
      "cell_type": "markdown",
      "metadata": {},
      "source": [
        "\n",
        "This document explains each function used in the HOG-based face detection example code. The code demonstrates:\n",
        "- Computing image gradients using different differential filters (Sobel, Prewitt, Scharr).\n",
        "- Extracting Histogram of Oriented Gradients (HOG) features.\n",
        "- Visualizing HOG features overlaid on the original image.\n",
        "- Performing sliding window matching using Normalized Cross-Correlation (NCC) on HOG features.\n",
        "- Applying Non-Maximum Suppression (NMS) to filter duplicate detections.\n",
        "- Visualizing detected face regions with bounding boxes and NCC scores.\n",
        "\n",
        "Below are the detailed explanations for each function."
      ]
    },
    {
      "cell_type": "markdown",
      "metadata": {},
      "source": [
        "#### Import Libraries"
      ]
    },
    {
      "cell_type": "code",
      "execution_count": 1,
      "metadata": {
        "id": "2YjldaKHs-wY"
      },
      "outputs": [],
      "source": [
        "import numpy as np\n",
        "import matplotlib.pyplot as plt\n",
        "from PIL import Image\n",
        "from scipy.signal import convolve2d"
      ]
    },
    {
      "cell_type": "markdown",
      "metadata": {
        "id": "LGdaaKjGd4qK"
      },
      "source": [
        "#### Differential Filter Implementation\n",
        "**Description:**  \n",
        "Computes the gradients of the input grayscale image using a differential filter. The function supports three methods: **Sobel**, **Prewitt**, and **Scharr**. Also, please use scipy convolve2d function for calculation.\n",
        "- **Parameters:**\n",
        "  - `image`: 2D numpy array (grayscale image).\n",
        "  - `method`: String indicating the differential filter method ('sobel', 'prewitt', or 'scharr').\n",
        "- **Returns:**\n",
        "  - `grad_x`: The gradient of the image in the x-direction.\n",
        "  - `grad_y`: The gradient of the image in the y-direction.\n",
        "- **Usage:**  \n",
        "  This function is used as the first step in HOG feature extraction to obtain the gradient magnitudes and orientations.\n",
        "\n",
        "\n",
        "##### Sobel Operator\n",
        "\n",
        "**Description:**  \n",
        "The Sobel operator emphasizes intensity changes by combining smoothing and differentiation. It is widely used in edge detection and feature extraction.\n",
        "\n",
        "**Kernels:**\n",
        "\n",
        "- **Kernel for x-direction:**\n",
        "\n",
        "  $$\n",
        "  \\begin{pmatrix}\n",
        "  -1 & 0 & 1 \\\\\n",
        "  -2 & 0 & 2 \\\\\n",
        "  -1 & 0 & 1\n",
        "  \\end{pmatrix}\n",
        "  $$\n",
        "\n",
        "- **Kernel for y-direction:**\n",
        "\n",
        "  $$\n",
        "  \\begin{pmatrix}\n",
        "  -1 & -2 & -1 \\\\\n",
        "   0 &  0 &  0 \\\\\n",
        "   1 &  2 &  1\n",
        "  \\end{pmatrix}\n",
        "  $$\n",
        "\n",
        "##### Prewitt Operator\n",
        "\n",
        "**Description:**  \n",
        "The Prewitt operator approximates the gradient with simpler kernels and without the extra weighting used in the Sobel operator. It is computationally more efficient though slightly less robust against noise.\n",
        "\n",
        "**Kernels:**\n",
        "\n",
        "- **Kernel for x-direction:**\n",
        "\n",
        "  $$\n",
        "  \\begin{pmatrix}\n",
        "  -1 & 0 & 1 \\\\\n",
        "  -1 & 0 & 1 \\\\\n",
        "  -1 & 0 & 1\n",
        "  \\end{pmatrix}\n",
        "  $$\n",
        "\n",
        "- **Kernel for y-direction:**\n",
        "\n",
        "  $$\n",
        "  \\begin{pmatrix}\n",
        "  -1 & -1 & -1 \\\\\n",
        "   0 &  0 &  0 \\\\\n",
        "   1 &  1 &  1\n",
        "  \\end{pmatrix}\n",
        "  $$\n",
        "\n",
        "##### Scharr Operator\n",
        "\n",
        "**Description:**  \n",
        "The Scharr operator provides improved rotational symmetry and more accurate gradient estimation compared to Sobel. It applies stronger weighting to the central pixels, enhancing edge detection.\n",
        "\n",
        "**Kernels:**\n",
        "\n",
        "- **Kernel for x-direction:**\n",
        "\n",
        "  $$\n",
        "  \\begin{pmatrix}\n",
        "   -3 &  0 &  3 \\\\\n",
        "  -10 &  0 & 10 \\\\\n",
        "   -3 &  0 &  3\n",
        "  \\end{pmatrix}\n",
        "  $$\n",
        "\n",
        "- **Kernel for y-direction:**\n",
        "\n",
        "  $$\n",
        "  \\begin{pmatrix}\n",
        "   -3 & -10 & -3 \\\\\n",
        "    0 &   0 &  0 \\\\\n",
        "    3 &  10 &  3\n",
        "  \\end{pmatrix}\n",
        "  $$"
      ]
    },
    {
      "cell_type": "code",
      "execution_count": null,
      "metadata": {
        "id": "ScB0h0l3DYyV"
      },
      "outputs": [],
      "source": [
        "def compute_gradients(image, method='sobel'):\n",
        "    \"\"\"\n",
        "    Compute image gradients using a differential filter.\n",
        "    \n",
        "    Parameters:\n",
        "    - image: 2D numpy array (grayscale)\n",
        "    - method: 'sobel', 'prewitt', or 'scharr'\n",
        "    \n",
        "    Returns:\n",
        "    - grad_x: gradient in the x direction\n",
        "    - grad_y: gradient in the y direction\n",
        "    \"\"\"\n",
        "    if method.lower() == 'sobel':\n",
        "        #############\n",
        "        # CODE HERE #\n",
        "        #############\n",
        "    elif method.lower() == 'prewitt':\n",
        "        #############\n",
        "        # CODE HERE #\n",
        "        #############\n",
        "    elif method.lower() == 'scharr':\n",
        "        #############\n",
        "        # CODE HERE #\n",
        "        #############\n",
        "    else:\n",
        "        raise ValueError(\"Unsupported filter method. Choose among 'sobel', 'prewitt', or 'scharr'.\")\n",
        "    \n",
        "    # Convolve the image with the kernels (using symmetric padding)\n",
        "    #############\n",
        "    # CODE HERE #\n",
        "    #############\n",
        "    return grad_x, grad_y"
      ]
    },
    {
      "cell_type": "markdown",
      "metadata": {
        "id": "5k5sYMfhd5qp"
      },
      "source": [
        "#### HOG Feature Extraction and Visualization\n",
        "\n",
        "**Description:**  \n",
        "Extracts HOG (Histogram of Oriented Gradients) features from a grayscale image by:\n",
        "- Dividing the image into cells of size `cell_size`.\n",
        "- Computing an orientation histogram with `bin_size` bins (covering 0–180 degrees) for each cell.\n",
        "- Normalizing groups of cells (blocks) using L2 norm over a block size of `block_size`.  \n",
        "- **Parameters:**\n",
        "  - `image`: 2D numpy array (grayscale).\n",
        "  - `cell_size`: Size of each cell in pixels.\n",
        "  - `bin_size`: Number of bins for the orientation histogram.\n",
        "  - `block_size`: Number of cells per block for normalization.\n",
        "  - `filter_method`: Differential filter method to compute gradients.\n",
        "- **Returns:**\n",
        "  - `feature_vector`: A flattened, normalized HOG feature vector for use in matching.\n",
        "  - `cell_hist`: The orientation histogram for each cell, used for HOG visualization.\n",
        "- **Usage:**  \n",
        "  The HOG feature vector is used for sliding window matching (template matching) and the cell histograms are used for visualizing the HOG representation.\n"
      ]
    },
    {
      "cell_type": "code",
      "execution_count": null,
      "metadata": {
        "id": "OcqoR2WBDY0v"
      },
      "outputs": [],
      "source": [
        "def hog_feature(image, cell_size, bin_size, block_size, filter_method):\n",
        "    \"\"\"\n",
        "    Extract HOG features from an image.\n",
        "    \n",
        "    Parameters:\n",
        "    - image: 2D numpy array (grayscale)\n",
        "    - cell_size: size of each cell in pixels\n",
        "    - bin_size: number of bins in the orientation histogram (covering 0-180 degrees)\n",
        "    - block_size: number of cells per block for normalization\n",
        "    - filter_method: differential filter method ('sobel', 'prewitt', or 'scharr')\n",
        "    \n",
        "    Returns:\n",
        "    - feature_vector: normalized HOG feature vector (flattened for sliding window matching)\n",
        "    - cell_hist: histogram for each cell (for HOG visualization)\n",
        "    \"\"\"\n",
        "    # Compute gradients\n",
        "    gx, gy = compute_gradients(image, method=filter_method)\n",
        "\n",
        "    #############\n",
        "    # CODE HERE #\n",
        "    #############\n",
        "    magnitude = \n",
        "    # Compute angle in degrees and adjust to [0, 180)\n",
        "    angle = \n",
        "\n",
        "    h, w = image.shape\n",
        "    n_cells_y = \n",
        "    n_cells_x = \n",
        "    cell_hist = \n",
        "\n",
        "    bin_width = \n",
        "\n",
        "    # Calculate the histogram for each cell\n",
        "    #############\n",
        "    # CODE HERE #\n",
        "    #############\n",
        "\n",
        "    # Block normalization using L2 norm\n",
        "    #############\n",
        "    # CODE HERE #\n",
        "    #############\n",
        "    return feature_vector, cell_hist"
      ]
    },
    {
      "cell_type": "markdown",
      "metadata": {},
      "source": [
        "**Description:**  \n",
        "Visualizes the HOG features by overlaying red lines representing gradient orientations and magnitudes on the original image.  \n",
        "- **Parameters:**\n",
        "  - `original_image`: The original image (can be grayscale or RGB) used as the background.\n",
        "  - `cell_hist`: The cell histograms obtained from the `hog_feature` function.\n",
        "  - `cell_size`: Size of each cell in pixels.\n",
        "  - `bin_size`: Number of histogram bins.\n",
        "  - `output_file`: File name where the visualization will be saved.\n",
        "- **Usage:**  \n",
        "  This function helps to visually verify the HOG feature extraction by showing how the gradients are distributed across the image.\n"
      ]
    },
    {
      "cell_type": "code",
      "execution_count": null,
      "metadata": {},
      "outputs": [],
      "source": [
        "def visualize_hog(original_image, cell_hist, cell_size=8, bin_size=9, output_file='hog_visualization.png'):\n",
        "    \"\"\"\n",
        "    Visualize HOG features overlaid on the original image.\n",
        "    \n",
        "    Parameters:\n",
        "    - original_image: the original image (2D or 3D numpy array)\n",
        "    - cell_hist: cell histograms from hog_feature function\n",
        "    - cell_size: size of each cell in pixels\n",
        "    - bin_size: number of histogram bins\n",
        "    - output_file: file name to save the visualization\n",
        "    \n",
        "    The function overlays red lines representing HOG features on top of the original image.\n",
        "    \"\"\"\n",
        "    #############\n",
        "    # CODE HERE #\n",
        "    #############\n",
        "    print(f\"HOG visualization saved to {output_file}\")"
      ]
    },
    {
      "cell_type": "markdown",
      "metadata": {
        "id": "aQ49UiTWd6c_"
      },
      "source": [
        "#### Sliding Window NCC Matching\n",
        "**Description:**  \n",
        "Converts an input image to grayscale.  \n",
        "- **Parameters:**\n",
        "  - `image`: A numpy array that can be either a 3D (RGB) or 2D (grayscale) image.\n",
        "- **Returns:**\n",
        "  - A 2D grayscale numpy array.\n",
        "- **Usage:**  \n",
        "  Ensures that images are in the correct grayscale format before processing with HOG feature extraction functions."
      ]
    },
    {
      "cell_type": "code",
      "execution_count": 5,
      "metadata": {
        "id": "336fl5NLDY3Y"
      },
      "outputs": [],
      "source": [
        "def convert_to_gray(image):\n",
        "    \"\"\"\n",
        "    Convert an image to grayscale.\n",
        "    \n",
        "    Parameters:\n",
        "    - image: numpy array; can be 2D (grayscale) or 3D (RGB)\n",
        "    \n",
        "    Returns:\n",
        "    - 2D grayscale numpy array\n",
        "    \"\"\"\n",
        "    if image.ndim == 3:\n",
        "        return np.dot(image[...,:3], [0.299, 0.587, 0.114])\n",
        "    else:\n",
        "        return image"
      ]
    },
    {
      "cell_type": "markdown",
      "metadata": {},
      "source": [
        "**Description:**  \n",
        "Performs sliding window matching by computing the normalized cross-correlation (NCC) between the HOG features of a template image and each window in the target image.  \n",
        "- **Parameters:**\n",
        "  - `target_image`: Grayscale target image where face detection is performed.\n",
        "  - `template_image`: Grayscale template image (face region) used for matching.\n",
        "  - `cell_size`, `bin_size`, `block_size`, `filter_method`: Parameters for the HOG feature extraction.\n",
        "  - `ncc_threshold`: Threshold for NCC score; windows with scores above this threshold are considered valid detections.\n",
        "  - `step_size`: Pixel step size for moving the sliding window.\n",
        "- **Returns:**\n",
        "  - A list of candidate bounding boxes, each represented as `[x1, y1, x2, y2, ncc_score]`.\n",
        "- **Usage:**  \n",
        "  This function is used to find regions in the target image that match the template face based on HOG feature similarity.\n"
      ]
    },
    {
      "cell_type": "code",
      "execution_count": null,
      "metadata": {},
      "outputs": [],
      "source": [
        "def sliding_window_ncc(target_image, template_image, cell_size=8, bin_size=9, block_size=2, \n",
        "                       filter_method='sobel', ncc_threshold=0.5, step_size=4):\n",
        "    \"\"\"\n",
        "    Perform sliding window matching using NCC on HOG features.\n",
        "    \n",
        "    Parameters:\n",
        "    - target_image: target image (grayscale numpy array)\n",
        "    - template_image: template image for face detection (grayscale numpy array)\n",
        "    - cell_size, bin_size, block_size, filter_method: parameters for hog_feature\n",
        "    - ncc_threshold: threshold for NCC score to consider a detection valid\n",
        "    - step_size: pixel step for sliding window movement\n",
        "    \n",
        "    Returns:\n",
        "    - List of candidate bounding boxes [x1, y1, x2, y2, ncc_score]\n",
        "    \"\"\"\n",
        "    template_gray = convert_to_gray(template_image)\n",
        "    template_feature, _ = hog_feature(template_gray, cell_size, bin_size, block_size, filter_method)\n",
        "    template_feature = template_feature / (np.linalg.norm(template_feature) + 1e-6)\n",
        "    \n",
        "    t_h, t_w = template_gray.shape\n",
        "    H, W = target_image.shape\n",
        "    detections = []\n",
        "    \n",
        "    # Slide the window over the target image\n",
        "    #############\n",
        "    # CODE HERE #\n",
        "    #############\n",
        "    return detections"
      ]
    },
    {
      "cell_type": "markdown",
      "metadata": {
        "id": "-WVj0uFHd7EE"
      },
      "source": [
        "#### Non-Maximum Suppression\n",
        "**Description:**  \n",
        "Applies Non-Maximum Suppression (NMS) to remove overlapping detections. For overlapping boxes with an Intersection over Union (IoU) above the threshold, only the one with the highest NCC score is retained.  \n",
        "- **Parameters:**\n",
        "  - `detections`: List of candidate bounding boxes `[x1, y1, x2, y2, score]`.\n",
        "  - `iou_threshold`: IoU threshold for suppression (default is 0.5).\n",
        "- **Returns:**\n",
        "  - A filtered list of bounding boxes after removing duplicates.\n",
        "- **Usage:**  \n",
        "  Helps in reducing duplicate detections, ensuring only the most confident detection for each face remains.\n"
      ]
    },
    {
      "cell_type": "code",
      "execution_count": null,
      "metadata": {
        "id": "4QPpkugJDY6I"
      },
      "outputs": [],
      "source": [
        "def non_max_suppression(detections, iou_threshold=0.5):\n",
        "    \"\"\"\n",
        "    Apply Non-Maximum Suppression to remove overlapping bounding boxes.\n",
        "    \n",
        "    Parameters:\n",
        "    - detections: list of [x1, y1, x2, y2, score]\n",
        "    - iou_threshold: IoU threshold for suppression (default 0.5)\n",
        "    \n",
        "    Returns:\n",
        "    - List of filtered bounding boxes\n",
        "    \"\"\"\n",
        "    #############\n",
        "    # CODE HERE #\n",
        "    #############\n",
        "    \n",
        "    return filtered_bounding_boxes"
      ]
    },
    {
      "cell_type": "markdown",
      "metadata": {
        "id": "wziyMmF1d7fz"
      },
      "source": [
        "#### Visualization of Detections on Original Image\n",
        "**Description:**  \n",
        "Visualizes detected faces by overlaying red bounding boxes and NCC scores on the original image. The NCC score is formatted to two decimal places and displayed on the image.  \n",
        "- **Parameters:**\n",
        "  - `original_image`: The original image (grayscale or RGB) where detections are visualized.\n",
        "  - `detections`: List of bounding boxes `[x1, y1, x2, y2, score]`.\n",
        "  - `output_file`: File name where the final detection visualization is saved.\n",
        "- **Usage:**  \n",
        "  Used to present the final detection results for evaluation or reporting.\n"
      ]
    },
    {
      "cell_type": "code",
      "execution_count": 8,
      "metadata": {
        "id": "DAvU57n0DY9J"
      },
      "outputs": [],
      "source": [
        "def visualize_detections(original_image, detections, output_file='detections.png'):\n",
        "    \"\"\"\n",
        "    Visualize detections by overlaying bounding boxes and NCC scores on the original image.\n",
        "    \n",
        "    Parameters:\n",
        "    - original_image: the original image (numpy array; grayscale or RGB)\n",
        "    - detections: list of bounding boxes [x1, y1, x2, y2, score]\n",
        "    - output_file: file name to save the visualization\n",
        "    \n",
        "    The function draws red bounding boxes and overlays the NCC score (formatted to two decimals).\n",
        "    \"\"\"\n",
        "    fig, ax = plt.subplots(1)\n",
        "    if original_image.ndim == 2:\n",
        "        ax.imshow(original_image, cmap='gray')\n",
        "    else:\n",
        "        ax.imshow(original_image)\n",
        "    for det in detections:\n",
        "        x1, y1, x2, y2, score = det\n",
        "        width = x2 - x1\n",
        "        height = y2 - y1\n",
        "        # Draw bounding box\n",
        "        rect = plt.Rectangle((x1, y1), width, height, edgecolor='red', facecolor='none', linewidth=2)\n",
        "        ax.add_patch(rect)\n",
        "        # Overlay NCC score text (formatted to two decimal places)\n",
        "        ax.text(x1, y1, f\"{score:.2f}\", color='yellow', fontsize=12, backgroundcolor='black')\n",
        "    plt.axis('off')\n",
        "    plt.savefig(output_file, bbox_inches='tight', pad_inches=0)\n",
        "    plt.close()\n",
        "    print(f\"Detection result saved to {output_file}\")"
      ]
    },
    {
      "cell_type": "markdown",
      "metadata": {
        "id": "YMiipQyKd76Y"
      },
      "source": [
        "#### Main Function\n",
        "\n",
        "**Description:**  \n",
        "The main function ties together the entire process:\n",
        "1. Loads the template and target images and converts them to grayscale.\n",
        "2. Extracts and visualizes HOG features on the target image.\n",
        "3. Performs sliding window matching using NCC on HOG features.\n",
        "4. Applies Non-Maximum Suppression to filter duplicate detections.\n",
        "5. Visualizes the final detected faces on the original target image with bounding boxes and NCC scores.\n",
        "\n",
        "**Notes for Students:**  \n",
        "- **STUDENT:** Modify the file paths for `template.png` and `target.png` as needed for your environment.\n",
        "- Adjust HOG parameters (e.g., `cell_size`, `bin_size`, `block_size`, `filter_method`) if required.\n"
      ]
    },
    {
      "cell_type": "code",
      "execution_count": null,
      "metadata": {
        "id": "JDva-JzBDhJF"
      },
      "outputs": [],
      "source": [
        "def main(template_path, \n",
        "         target_path,\n",
        "         cell_size,\n",
        "         bin_size,\n",
        "         block_size,\n",
        "         filter_method,\n",
        "         ncc_threshold,\n",
        "         step_size,\n",
        "         iou_threshold):\n",
        "    \n",
        "    # Load images using PIL and convert them to grayscale\n",
        "    template_img = np.array(Image.open(template_path).convert('L'))\n",
        "    target_img = np.array(Image.open(target_path).convert('L'))\n",
        "    \n",
        "    # Compute HOG features for the target image and get cell histograms\n",
        "    _, cell_hist = hog_feature(target_img, cell_size, bin_size, block_size, filter_method)\n",
        "    \n",
        "    # Visualize HOG features overlaid on the original target image\n",
        "    visualize_hog(target_img, cell_hist, cell_size, bin_size, output_file='hog_visualization.png')\n",
        "    \n",
        "    # Extract HOG features for the template and perform sliding window NCC matching\n",
        "    detections = sliding_window_ncc(target_img, \n",
        "                                    template_img, \n",
        "                                    cell_size, \n",
        "                                    bin_size, \n",
        "                                    block_size, \n",
        "                                    filter_method, \n",
        "                                    ncc_threshold, \n",
        "                                    step_size)\n",
        "    print(\"Detections before NMS:\", detections)\n",
        "    \n",
        "    # Apply Non-Maximum Suppression with an IoU threshold\n",
        "    detections_nms = non_max_suppression(detections, iou_threshold)\n",
        "    print(\"Detections after NMS:\", detections_nms)\n",
        "    \n",
        "    # Visualize detections on the original target image\n",
        "    visualize_detections(target_img, detections_nms, output_file='detections.png')\n",
        "    "
      ]
    },
    {
      "cell_type": "markdown",
      "metadata": {
        "id": "QW7PY8-_d8Vk"
      },
      "source": [
        "#### Run"
      ]
    },
    {
      "cell_type": "code",
      "execution_count": null,
      "metadata": {},
      "outputs": [],
      "source": [
        "img_template_path = 'template.png'\n",
        "img_target_path = 'target.png'\n",
        "\n",
        "main(template_path=img_template_path, \n",
        "     target_path=img_target_path,\n",
        "     cell_size=8,\n",
        "     bin_size=9,\n",
        "     block_size=2,\n",
        "     filter_method='sobel',\n",
        "     ncc_threshold=0.5,\n",
        "     step_size=4,\n",
        "     iou_threshold=0.2)"
      ]
    }
  ],
  "metadata": {
    "colab": {
      "provenance": [],
      "toc_visible": true
    },
    "kernelspec": {
      "display_name": "base",
      "language": "python",
      "name": "python3"
    },
    "language_info": {
      "codemirror_mode": {
        "name": "ipython",
        "version": 3
      },
      "file_extension": ".py",
      "mimetype": "text/x-python",
      "name": "python",
      "nbconvert_exporter": "python",
      "pygments_lexer": "ipython3",
      "version": "3.12.2"
    }
  },
  "nbformat": 4,
  "nbformat_minor": 0
}
