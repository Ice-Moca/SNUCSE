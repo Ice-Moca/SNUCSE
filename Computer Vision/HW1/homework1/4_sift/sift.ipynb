{
  "cells": [
    {
      "cell_type": "markdown",
      "metadata": {
        "id": "5bgN2ohkdepj"
      },
      "source": [
        "## SIFT (Scale-Invariant Feature Transform)"
      ]
    },
    {
      "cell_type": "markdown",
      "metadata": {
        "id": "mn1D1jbtdepk"
      },
      "source": [
        "### Step 1: Scale-space and DoG Pyramid"
      ]
    },
    {
      "cell_type": "code",
      "execution_count": null,
      "metadata": {
        "colab": {
          "base_uri": "https://localhost:8080/",
          "height": 577
        },
        "id": "lXRJ5Qfpdepl",
        "outputId": "135ec0f8-5386-4610-fd80-f8967edd61ce"
      },
      "outputs": [],
      "source": [
        "import numpy as np\n",
        "import cv2\n",
        "import matplotlib.pyplot as plt\n",
        "from scipy import ndimage\n",
        "from scipy.ndimage import gaussian_filter\n",
        "from skimage import data\n",
        "from imageio import imread\n",
        "\n",
        "# Load grayscale image\n",
        "url = \"https://upload.wikimedia.org/wikipedia/commons/thumb/8/87/Mount_Rushmore_detail_view_%28100MP%29.jpg/960px-Mount_Rushmore_detail_view_%28100MP%29.jpg\"\n",
        "image = imread(url)\n",
        "image = cv2.cvtColor(image, cv2.COLOR_RGB2GRAY).astype(np.float32) / 255.0\n",
        "\n",
        "plt.imshow(image, cmap='gray')\n",
        "plt.title(\"Input Image\")\n",
        "plt.axis('off')\n",
        "plt.show()"
      ]
    },
    {
      "cell_type": "code",
      "execution_count": null,
      "metadata": {
        "colab": {
          "base_uri": "https://localhost:8080/",
          "height": 512
        },
        "id": "RtazMIqjdepl",
        "outputId": "c3d4af4f-03dc-4137-c42c-7cf3c16359d3"
      },
      "outputs": [],
      "source": [
        "## Step 1a: Gaussian Pyramid\n",
        "def build_gaussian_pyramid(image, num_octaves=4, num_intervals=3, sigma=1.6):\n",
        "    pyramid = []\n",
        "    k = 2 ** (1 / num_intervals)\n",
        "    for octave in range(num_octaves):\n",
        "        octave_images = []\n",
        "        for i in range(num_intervals + 3):  # +3 as per SIFT paper\n",
        "            curr_sigma = sigma * (k ** i)\n",
        "            blurred = gaussian_filter(image, sigma=curr_sigma)\n",
        "            octave_images.append(blurred)\n",
        "        pyramid.append(octave_images)\n",
        "        # Downsample for next octave\n",
        "        image = cv2.resize(image, (image.shape[1] // 2, image.shape[0] // 2), interpolation=cv2.INTER_NEAREST)\n",
        "    return pyramid\n",
        "\n",
        "# Step 1b: Build the DoG pyramid from Gaussian pyramid\n",
        "def build_dog_pyramid(gaussian_pyramid):\n",
        "    dog_pyramid = []\n",
        "    for octave in gaussian_pyramid:\n",
        "        dog_octave = []\n",
        "        for i in range(1, len(octave)):\n",
        "            dog = octave[i] - octave[i - 1]\n",
        "            dog_octave.append(dog)\n",
        "        dog_pyramid.append(dog_octave)\n",
        "    return dog_pyramid\n",
        "\n",
        "# Visualize DoG pyramid\n",
        "def show_dog(dog_pyramid, num_octaves=3):\n",
        "    fig, axs = plt.subplots(num_octaves, len(dog_pyramid[0]), figsize=(15, 5))\n",
        "    for o in range(num_octaves):\n",
        "        for i in range(len(dog_pyramid[0])):\n",
        "            axs[o, i].imshow(dog_pyramid[o][i], cmap='gray')\n",
        "            axs[o, i].axis('off')\n",
        "            axs[o, i].set_title(f\"Oct{o} Scale{i}\", fontsize=6)\n",
        "    plt.suptitle(\"Difference of Gaussian Pyramid\")\n",
        "    plt.tight_layout()\n",
        "    plt.show()\n",
        "\n",
        "# Build and visualize\n",
        "G = build_gaussian_pyramid(image)\n",
        "DoG = build_dog_pyramid(G)\n",
        "show_dog(DoG)"
      ]
    },
    {
      "cell_type": "markdown",
      "metadata": {
        "id": "NevooPl5depl"
      },
      "source": [
        "### Step 2: Detect DoG Extrema (Keypoint Candidates)"
      ]
    },
    {
      "cell_type": "code",
      "execution_count": null,
      "metadata": {
        "colab": {
          "base_uri": "https://localhost:8080/"
        },
        "id": "eFP61AKedepm",
        "outputId": "858b210f-44ef-4bcd-f7a6-354cd90a3aa3"
      },
      "outputs": [],
      "source": [
        "def is_local_extrema(patch):\n",
        "    center = patch[1, 1, 1]\n",
        "    return (center == np.max(patch)) or (center == np.min(patch))\n",
        "\n",
        "def find_scale_space_extrema(dog_pyramid, contrast_threshold=0.03):\n",
        "    keypoints = []\n",
        "    for o, dog_octave in enumerate(dog_pyramid):\n",
        "        for i in range(1, len(dog_octave)-1):\n",
        "            prev_img = dog_octave[i-1]\n",
        "            curr_img = dog_octave[i]\n",
        "            next_img = dog_octave[i+1]\n",
        "\n",
        "            h, w = curr_img.shape\n",
        "            for y in range(1, h-1):\n",
        "                for x in range(1, w-1):\n",
        "                    patch = np.stack([\n",
        "                        prev_img[y-1:y+2, x-1:x+2],\n",
        "                        curr_img[y-1:y+2, x-1:x+2],\n",
        "                        next_img[y-1:y+2, x-1:x+2]\n",
        "                    ])\n",
        "                    if is_local_extrema(patch):\n",
        "                        if abs(curr_img[y, x]) > contrast_threshold:\n",
        "                            keypoints.append((o, i, y, x))\n",
        "    return keypoints\n",
        "\n",
        "# Detect keypoints\n",
        "keypoints = find_scale_space_extrema(DoG)\n",
        "print(f\"Total candidate keypoints detected: {len(keypoints)}\")"
      ]
    },
    {
      "cell_type": "markdown",
      "metadata": {
        "id": "tWH42kGmdepm"
      },
      "source": [
        "### Step 3: Orientation Assignment (for visualization)"
      ]
    },
    {
      "cell_type": "code",
      "execution_count": null,
      "metadata": {
        "colab": {
          "base_uri": "https://localhost:8080/",
          "height": 458
        },
        "id": "ZYNmV3tldepm",
        "outputId": "1ec6c63c-5d92-4dbc-9ed3-98925340b2aa"
      },
      "outputs": [],
      "source": [
        "def compute_orientation(image, y, x, radius=8, sigma=1.5):\n",
        "    patch = image[max(0, y-radius):y+radius+1, max(0, x-radius):x+radius+1]\n",
        "    dy = ndimage.sobel(patch, axis=0)\n",
        "    dx = ndimage.sobel(patch, axis=1)\n",
        "    mag = np.sqrt(dx**2 + dy**2)\n",
        "    angle = np.arctan2(dy, dx) * 180 / np.pi % 360\n",
        "    hist, _ = np.histogram(angle, bins=36, range=(0, 360), weights=mag)\n",
        "    return hist\n",
        "\n",
        "def visualize_orientations(image, keypoints, gaussian_pyramid):\n",
        "    plt.figure(figsize=(8, 8))\n",
        "    plt.imshow(image, cmap='gray')\n",
        "    for (o, i, y, x) in keypoints[:300]:  # only first 300 for visualization\n",
        "        g = gaussian_pyramid[o][i]\n",
        "        hist = compute_orientation(g, y, x)\n",
        "        dominant_angle = np.argmax(hist) * 10\n",
        "        dx = np.cos(np.deg2rad(dominant_angle)) * 5\n",
        "        dy = np.sin(np.deg2rad(dominant_angle)) * 5\n",
        "        plt.arrow(x, y, dx, dy, color='lime', head_width=1)\n",
        "    plt.title(\"Keypoint Orientations (subset)\")\n",
        "    plt.axis('off')\n",
        "    plt.show()\n",
        "\n",
        "visualize_orientations(image, keypoints, G)"
      ]
    },
    {
      "cell_type": "markdown",
      "metadata": {
        "id": "1PNg6rizdepm"
      },
      "source": [
        "### Step 4: SIFT Keypoint Matching (with OpenCV for reference)"
      ]
    },
    {
      "cell_type": "code",
      "execution_count": null,
      "metadata": {
        "colab": {
          "base_uri": "https://localhost:8080/",
          "height": 599
        },
        "id": "mHwe9a7gdepm",
        "outputId": "e98885c9-cc3a-4786-b4d0-5359d91df78e"
      },
      "outputs": [],
      "source": [
        "url1 = \"https://upload.wikimedia.org/wikipedia/commons/thumb/8/87/Mount_Rushmore_detail_view_%28100MP%29.jpg/960px-Mount_Rushmore_detail_view_%28100MP%29.jpg\"\n",
        "url2 = \"https://upload.wikimedia.org/wikipedia/commons/thumb/1/1d/Mount_Rushmore_distant_view.jpg/620px-Mount_Rushmore_distant_view.jpg\"\n",
        "\n",
        "img1 = imread(url1)\n",
        "img2 = imread(url2)\n",
        "\n",
        "\n",
        "img1_gray = cv2.cvtColor(img1, cv2.COLOR_RGB2GRAY)\n",
        "img2_gray = cv2.cvtColor(img2, cv2.COLOR_RGB2GRAY)\n",
        "\n",
        "sift = cv2.SIFT_create()\n",
        "kp1, des1 = sift.detectAndCompute((img1_gray * 255).astype(np.uint8), None)\n",
        "kp2, des2 = sift.detectAndCompute((img2_gray * 255).astype(np.uint8), None)\n",
        "\n",
        "bf = cv2.BFMatcher()\n",
        "matches = bf.knnMatch(des1, des2, k=2)\n",
        "\n",
        "# Apply Lowe's ratio test\n",
        "good = []\n",
        "for m, n in matches:\n",
        "    if m.distance < 0.4 * n.distance:\n",
        "        good.append([m])\n",
        "\n",
        "matched_img = cv2.drawMatchesKnn((img1).astype(np.uint8), kp1,\n",
        "                                  (img2).astype(np.uint8), kp2,\n",
        "                                  good, None, flags=2)\n",
        "\n",
        "plt.figure(figsize=(14, 6))\n",
        "plt.imshow(matched_img)\n",
        "plt.axis('off')\n",
        "plt.title(\"SIFT Keypoint Matching using OpenCV\")\n",
        "plt.show()\n"
      ]
    }
  ],
  "metadata": {
    "colab": {
      "provenance": []
    },
    "kernelspec": {
      "display_name": "Python 3",
      "name": "python3"
    },
    "language_info": {
      "name": "python"
    }
  },
  "nbformat": 4,
  "nbformat_minor": 0
}
